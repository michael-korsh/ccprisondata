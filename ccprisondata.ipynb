{
  "nbformat": 4,
  "nbformat_minor": 0,
  "metadata": {
    "colab": {
      "name": "ccprisondata.ipynb",
      "provenance": [],
      "collapsed_sections": [],
      "include_colab_link": true
    },
    "kernelspec": {
      "name": "python3",
      "display_name": "Python 3"
    },
    "language_info": {
      "name": "python"
    }
  },
  "cells": [
    {
      "cell_type": "markdown",
      "metadata": {
        "id": "view-in-github",
        "colab_type": "text"
      },
      "source": [
        "<a href=\"https://colab.research.google.com/github/michael-korsh/ccprisondata/blob/main/ccprisondata.ipynb\" target=\"_parent\"><img src=\"https://colab.research.google.com/assets/colab-badge.svg\" alt=\"Open In Colab\"/></a>"
      ]
    },
    {
      "cell_type": "markdown",
      "metadata": {
        "id": "5Va0KG0Kp4UC"
      },
      "source": [
        "**Cook County Jail Population and COVID-19 Case Scraper**\n",
        "\n",
        "\n",
        "\n"
      ]
    },
    {
      "cell_type": "markdown",
      "metadata": {
        "id": "HIc9q4SJqbri"
      },
      "source": [
        "**Installing and Importing Relevant Libraries**"
      ]
    },
    {
      "cell_type": "code",
      "metadata": {
        "id": "DcwIQ0_XTbxD"
      },
      "source": [
        "!java -version\n",
        "!pip install -q tabula-py\n",
        "!pip install pygsheets"
      ],
      "execution_count": null,
      "outputs": []
    },
    {
      "cell_type": "code",
      "metadata": {
        "id": "zZ8y9lTiTey0"
      },
      "source": [
        "import tabula\n",
        "import pandas as pd\n",
        "import datetime\n",
        "from bs4 import BeautifulSoup\n",
        "import requests\n",
        "import re\n",
        "\n",
        "import google.auth\n",
        "from google.colab import auth\n",
        "\n",
        "auth.authenticate_user()\n",
        "import pygsheets\n",
        "credentials, _ = google.auth.default()\n",
        "gc = pygsheets.client.Client(credentials)"
      ],
      "execution_count": null,
      "outputs": []
    },
    {
      "cell_type": "markdown",
      "metadata": {
        "id": "XklQF2e3qfUC"
      },
      "source": [
        "**Cook County Jail Population — Retrieval**\n"
      ]
    },
    {
      "cell_type": "code",
      "metadata": {
        "id": "nX4p2p25TgDb"
      },
      "source": [
        "def get_jail_data(date):\n",
        "  jail_data = {}\n",
        "  \n",
        "  date_items = date.split('/')\n",
        "  \n",
        "  month = date_items[0]\n",
        "  day = date_items[1]\n",
        "  year = date_items[2]\n",
        "\n",
        "  pdf_path = \"https://www.cookcountysheriff.org/wp-content/uploads/\" + year + '/' + month + '/CCSO_BIU_CommunicationsCCDOC_v1_' + year + '_' + month + '_' + day + '.pdf'\n",
        "  jail_data[\"PDF\"] = pdf_path\n",
        "\n",
        "  try:\n",
        "   df = tabula.read_pdf(pdf_path, pages=1)\n",
        "  except:\n",
        "    return None\n",
        "\n",
        "  jail_data_date = month + '/' + day + '/' + year\n",
        "  jail_data['Date'] = jail_data_date\n",
        "\n",
        "  try:\n",
        "    if df[0][\"Under the Custody of the Sheriff\"][1] == 'Jail Population':\n",
        "      jail_pop = int(df[0]['Unnamed: 0'][1].replace(',',''))\n",
        "      elec_monitoring_pop = int(df[0]['Unnamed: 0'][2].replace(',',''))\n",
        "    else:\n",
        "      jail_pop = int(df[0][\"Under the Custody of the Sheriff\"][1].replace(',',''))\n",
        "      elec_monitoring_pop = int(df[0][\"Under the Custody of the Sheriff\"][2].replace(',',''))\n",
        "  except:\n",
        "    try:\n",
        "      df[1]['Under the Custody of the Sheriff'][1] == 'Jail Population'\n",
        "      jail_pop = int(df[1]['Unnamed: 0'][1].replace(',',''))\n",
        "      elec_monitoring_pop = int(df[1]['Unnamed: 0'][2].replace(',',''))\n",
        "    except:\n",
        "      pass\n",
        "  \n",
        "  jail_data[\"Jail Population\"] = jail_pop\n",
        "  jail_data[\"Electronic Monitoring\"] = elec_monitoring_pop\n",
        "\n",
        "  return jail_data"
      ],
      "execution_count": null,
      "outputs": []
    },
    {
      "cell_type": "markdown",
      "metadata": {
        "id": "5QZsSjgRrpXh"
      },
      "source": [
        "**Cook County Jail COVID-19 Cases — Retrieval**\n",
        "\n",
        "\n"
      ]
    },
    {
      "cell_type": "code",
      "metadata": {
        "id": "YhWKdjQmThrE"
      },
      "source": [
        "def get_today_covid_data():\n",
        "  covid_data = {}\n",
        "\n",
        "  webpage_response = requests.get('https://www.cookcountysheriff.org/covid/covid-19-cases-at-ccdoc/')\n",
        "  soup = BeautifulSoup(webpage_response.content)\n",
        "\n",
        "  all_text = soup.find_all('p')\n",
        "  text_list = []\n",
        "\n",
        "  for a in all_text:\n",
        "    text_list.append(a.getText())\n",
        "\n",
        "  bullets = soup.find_all(\"li\")\n",
        "\n",
        "  for line in text_list:\n",
        "    if \"As of 5 p.m. on\" in line:\n",
        "      date_list = []\n",
        "      all_words_in_line = line.split(' ')\n",
        "\n",
        "      for word in all_words_in_line:\n",
        "        date_list.append(word)\n",
        "      date = date_list[5].replace(':','')\n",
        "\n",
        "      month = int(date.split('/')[0])\n",
        "      \n",
        "      if month < 10:\n",
        "        date = \"0\" + date\n",
        "      \n",
        "      covid_data[\"Date\"] = date\n",
        "\n",
        "  for li in bullets:\n",
        "    li_str = li.getText()\n",
        "\n",
        "    if 'detainees in custody at Cook County Jail are currently positive for COVID-19.' in li_str:\n",
        "      sentence = li_str.split(' ')\n",
        "      current_positive = int(sentence[0])\n",
        "      covid_data['Current Positives'] = current_positive\n",
        "\n",
        "    if 'detainees in custody are no longer positive and are being monitored at a recovery facility at the jail' in li_str:\n",
        "      sentence = li_str.split(' ')\n",
        "      recovered = sentence[0].replace(',','')\n",
        "      recovered = int(recovered)\n",
        "      covid_data['Recovered'] = recovered\n",
        "\n",
        "    if 'detainees have tested negative for COVID-19' in li_str:\n",
        "      sentence = li_str.split(' ')\n",
        "      negative = sentence[0].replace(',','')\n",
        "      negative = int(negative)\n",
        "      covid_data['Negative'] = negative\n",
        "\n",
        "    if 'detainees who tested positive for COVID-19 have died while receiving treatment at local hospitals' in li_str:\n",
        "      sentence = li_str.split(' ')\n",
        "      detainees_died = sentence[0].replace(',','')\n",
        "      detainees_died = int(detainees_died)\n",
        "      covid_data['Detainee Deaths'] = detainees_died\n",
        "\n",
        "    if 'detainees who are being treated at local hospitals' in li_str:\n",
        "      sentence = li_str.split(' ')\n",
        "      detainees_hospitalized = int(sentence[2])\n",
        "      covid_data['Detainees Hospitalized'] = detainees_hospitalized\n",
        "\n",
        "  for line in text_list:\n",
        "    if \"Additionally\" in line:\n",
        "      full_sentence = line.split(' ')\n",
        "      officers_positive = int(full_sentence[1])\n",
        "      other_employees_positive = int(full_sentence[10])\n",
        "      covid_data[\"Sheriff's Staff Positive\"] = officers_positive + other_employees_positive\n",
        "      covid_data[\"Officers Positive\"] = officers_positive\n",
        "\n",
        "    if \"who previously tested positive who are now recovered and have returned to work\" in line:\n",
        "      full_sentence = line.split(' ')\n",
        "      recovered_employees = int(full_sentence[2].replace(',',''))\n",
        "      covid_data[\"Recovered Sheriff's Employees\"] = recovered_employees\n",
        "\n",
        "    if \"We are saddened to report that\" in line:\n",
        "      full_sentence = line.split(' ')\n",
        "      correctional_officer_deaths = int(full_sentence[6])\n",
        "      covid_data[\"Correctional Officer Deaths\"] = correctional_officer_deaths\n",
        "\n",
        "  return covid_data"
      ],
      "execution_count": null,
      "outputs": []
    },
    {
      "cell_type": "markdown",
      "metadata": {
        "id": "NTE1W_K_6IIz"
      },
      "source": [
        "**Helper Functions**"
      ]
    },
    {
      "cell_type": "code",
      "metadata": {
        "id": "4ldRNiI83JDL"
      },
      "source": [
        "def get_today_jail_data():\n",
        "  td = datetime.date.today()\n",
        "  td = td.strftime(\"%m/%d/%Y\")\n",
        "  return get_jail_data(td)\n",
        "\n",
        "def reformat_date(date_string):\n",
        "  date_items = date_string.split('/')\n",
        "  month = date_items[0].replace('0','')\n",
        "  if int(date_items[1]) < 10:\n",
        "    day = date_items[1].replace('0','')\n",
        "  else:\n",
        "    day = str(date_items[1])\n",
        "  year = date_items[2]\n",
        "  reformatted_date = month + '/' + day + '/' + year\n",
        "  return reformatted_date"
      ],
      "execution_count": null,
      "outputs": []
    },
    {
      "cell_type": "markdown",
      "metadata": {
        "id": "5-BHqshKtX5F"
      },
      "source": [
        "**Initialize Today's Data**"
      ]
    },
    {
      "cell_type": "code",
      "metadata": {
        "id": "hIjOUMl3Tocb"
      },
      "source": [
        "today_covid_data = get_today_covid_data()\n",
        "today_jail_data = get_today_jail_data()"
      ],
      "execution_count": null,
      "outputs": []
    },
    {
      "cell_type": "markdown",
      "metadata": {
        "id": "mhgcNizOCGCD"
      },
      "source": [
        "**Updating Spreadsheets**\n",
        "\n"
      ]
    },
    {
      "cell_type": "markdown",
      "metadata": {
        "id": "A3sw_5xx-TE3"
      },
      "source": [
        "*Update Jail Spreadsheet*"
      ]
    },
    {
      "cell_type": "code",
      "metadata": {
        "id": "5KqT1JXabLTm"
      },
      "source": [
        "def update_jail_spreadsheet(jail_data):\n",
        "\n",
        "  sh = gc.open('Cook County Jail Population - March 2020')\n",
        "\n",
        "  if jail_data == None:\n",
        "    print('Jail data for this day is unavailable.')\n",
        "\n",
        "  else:\n",
        "    rf_date_2 = reformat_date(jail_data['Date'])\n",
        "    print('Jail population data is available for ' + rf_date_2 + '.')\n",
        "    \n",
        "    jail_wks = sh[0]\n",
        "    jail_df = pd.DataFrame(jail_wks.get_all_records())\n",
        "    \n",
        "    if rf_date_2 != jail_df.iloc[-1]['Date']:\n",
        "      new_row = [jail_data['Date'],\n",
        "                jail_data['Jail Population'],\n",
        "                jail_data['Electronic Monitoring']]\n",
        "\n",
        "      cells = jail_wks.get_all_values(include_tailing_empty_rows=False, include_tailing_empty=False, returnas='matrix')\n",
        "      last_row = len(cells)\n",
        "      jail_wks = jail_wks.insert_rows(last_row, number=1, values= new_row,inherit=True)\n",
        "      \n",
        "      print('Jail population spreadsheet has been updated with data from '+ rf_date_2 + '.')\n",
        "\n",
        "    else:\n",
        "      print('Jail population spreadsheet is up to date.')"
      ],
      "execution_count": null,
      "outputs": []
    },
    {
      "cell_type": "markdown",
      "metadata": {
        "id": "ObEqn3z0C-gb"
      },
      "source": [
        "*Update COVID Spreadsheet*\n",
        "\n"
      ]
    },
    {
      "cell_type": "code",
      "metadata": {
        "id": "ZhjeFs1zj6F_"
      },
      "source": [
        "def update_covid_spreadsheet(today_covid_data):\n",
        "  \n",
        "  rf_date = reformat_date(today_covid_data['Date'])\n",
        "\n",
        "  if today_covid_data:\n",
        "    print('COVID-19 data is available for ' + rf_date + '.')\n",
        "\n",
        "  if not today_covid_data:\n",
        "    print('COVID data for this day is unavailable.')\n",
        "  \n",
        "  sh = gc.open('Cook County Jail Population - March 2020')\n",
        "  covid_wks = sh[1]\n",
        "  covid_df = pd.DataFrame(covid_wks.get_all_records())\n",
        "\n",
        "  if rf_date != covid_df.iloc[-1]['Date']:\n",
        "    jail_wks = sh[0]\n",
        "    jail_df = pd.DataFrame(jail_wks.get_all_records())\n",
        "    try:\n",
        "      jail_df_row = jail_df.loc[jail_df['Date'] == rf_date]\n",
        "      jail_pop = jail_df_row.iloc[0]['Jail Population']\n",
        "    except:\n",
        "      jail_df_row = jail_df.iloc[[0, -1]]\n",
        "      jail_pop = jail_df_row.iloc[0]['Jail Population']\n",
        "    today_date = today_covid_data['Date']\n",
        "    today_positives = today_covid_data['Current Positives']\n",
        "    recovered_detainees = today_covid_data['Recovered']\n",
        "    today_negative = today_covid_data['Negative']\n",
        "    detainee_deaths = today_covid_data['Detainee Deaths']\n",
        "    co_deaths = today_covid_data['Correctional Officer Deaths']\n",
        "    today_staff_positive = today_covid_data[\"Sheriff's Staff Positive\"]\n",
        "    today_co_positive = today_covid_data['Officers Positive']\n",
        "    recovered_employees = today_covid_data[\"Recovered Sheriff's Employees\"]\n",
        "    today_infection_rate = (today_positives/jail_pop)*1000\n",
        "\n",
        "    if 'Detainees Hospitalized' in today_covid_data:\n",
        "      today_hospitalized == today_covid_data['Detainees Hospitalized']\n",
        "    else:\n",
        "      today_hospitalized = 0\n",
        "\n",
        "    total_detainees_positive = today_positives + recovered_detainees\n",
        "    total_staff_positive = today_covid_data[\"Sheriff's Staff Positive\"] + today_covid_data[\"Recovered Sheriff's Employees\"]\n",
        "\n",
        "    new_covid_row = [today_date,\n",
        "                    total_detainees_positive,\n",
        "                    today_positives,\n",
        "                    recovered_detainees,\n",
        "                    None,\n",
        "                    None,\n",
        "                    None,\n",
        "                    today_negative,\n",
        "                    today_hospitalized,\n",
        "                    detainee_deaths,\n",
        "                    co_deaths,\n",
        "                    today_staff_positive,\n",
        "                    today_co_positive,\n",
        "                    recovered_employees,\n",
        "                    total_staff_positive,\n",
        "                    today_infection_rate]\n",
        "\n",
        "    cells2 = covid_wks.get_all_values(include_tailing_empty_rows=False, include_tailing_empty=False, returnas='matrix')\n",
        "    last_row = len(cells2)\n",
        "    covid_wks = covid_wks.insert_rows(last_row, number=1, values= new_covid_row,inherit=True)\n",
        "    print('COVID-19 spreadsheet has been updated with data from '+ rf_date + '.')\n",
        "\n",
        "  else:\n",
        "    print('COVID-19 spreadsheet is up to date.')"
      ],
      "execution_count": null,
      "outputs": []
    },
    {
      "cell_type": "markdown",
      "metadata": {
        "id": "E3LkPbn0DUuf"
      },
      "source": [
        "**Daily Operations**"
      ]
    },
    {
      "cell_type": "code",
      "metadata": {
        "id": "sYJAtEl57hSp"
      },
      "source": [
        "def daily_operations():\n",
        "  update_jail_spreadsheet(today_jail_data)\n",
        "  update_covid_spreadsheet(today_covid_data)"
      ],
      "execution_count": null,
      "outputs": []
    },
    {
      "cell_type": "markdown",
      "metadata": {
        "id": "CG4jJA7NGasV"
      },
      "source": [
        "\n",
        "**RUNNING THE PROGRAM**"
      ]
    },
    {
      "cell_type": "markdown",
      "metadata": {
        "id": "2CWGpoNfCCx0"
      },
      "source": [
        "*Mondays*"
      ]
    },
    {
      "cell_type": "code",
      "metadata": {
        "id": "sRMnDs2kB9xp"
      },
      "source": [
        "'''\n",
        "update_jail_spreadsheet(get_jail_data('SATURDAY'))\n",
        "update_jail_spreadsheet(get_jail_data('SUNDAY'))\n",
        "'''"
      ],
      "execution_count": null,
      "outputs": []
    },
    {
      "cell_type": "markdown",
      "metadata": {
        "id": "4XEe7IlMCFMR"
      },
      "source": [
        "*All Days*"
      ]
    },
    {
      "cell_type": "code",
      "metadata": {
        "id": "ufecZPVwAx9E"
      },
      "source": [
        "daily_operations()"
      ],
      "execution_count": null,
      "outputs": []
    }
  ]
}