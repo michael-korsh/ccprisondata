{
  "nbformat": 4,
  "nbformat_minor": 0,
  "metadata": {
    "colab": {
      "name": "PrisonDataScraper.ipynb",
      "provenance": [],
      "collapsed_sections": [],
      "include_colab_link": true
    },
    "kernelspec": {
      "name": "python3",
      "display_name": "Python 3"
    },
    "language_info": {
      "name": "python"
    }
  },
  "cells": [
    {
      "cell_type": "markdown",
      "metadata": {
        "id": "view-in-github",
        "colab_type": "text"
      },
      "source": [
        "<a href=\"https://colab.research.google.com/github/michael-korsh/ccprisondata/blob/main/PrisonDataScraper.ipynb\" target=\"_parent\"><img src=\"https://colab.research.google.com/assets/colab-badge.svg\" alt=\"Open In Colab\"/></a>"
      ]
    },
    {
      "cell_type": "markdown",
      "metadata": {
        "id": "5Va0KG0Kp4UC"
      },
      "source": [
        "**Cook County Jail Population and COVID-19 Case Scraper**\n",
        "\n",
        "\n",
        "\n"
      ]
    },
    {
      "cell_type": "markdown",
      "metadata": {
        "id": "HIc9q4SJqbri"
      },
      "source": [
        "**Installing and Importing Relevant Libraries**"
      ]
    },
    {
      "cell_type": "code",
      "metadata": {
        "colab": {
          "base_uri": "https://localhost:8080/"
        },
        "id": "DcwIQ0_XTbxD",
        "outputId": "b48756bb-3339-4e5a-ed32-95901d8def6d"
      },
      "source": [
        "!java -version\n",
        "!pip install -q tabula-py\n",
        "!pip install pygsheets"
      ],
      "execution_count": 1,
      "outputs": [
        {
          "output_type": "stream",
          "text": [
            "openjdk version \"11.0.11\" 2021-04-20\n",
            "OpenJDK Runtime Environment (build 11.0.11+9-Ubuntu-0ubuntu2.18.04)\n",
            "OpenJDK 64-Bit Server VM (build 11.0.11+9-Ubuntu-0ubuntu2.18.04, mixed mode, sharing)\n",
            "\u001b[K     |████████████████████████████████| 11.7MB 20.7MB/s \n",
            "\u001b[?25hCollecting pygsheets\n",
            "\u001b[?25l  Downloading https://files.pythonhosted.org/packages/2a/21/09e19c00e37d7f936d19f5ceffb01c2ef471f9c48d90fde045a654e91cc8/pygsheets-2.0.5-py2.py3-none-any.whl (147kB)\n",
            "\u001b[K     |████████████████████████████████| 153kB 32.3MB/s \n",
            "\u001b[?25hRequirement already satisfied: google-auth-oauthlib in /usr/local/lib/python3.7/dist-packages (from pygsheets) (0.4.4)\n",
            "Requirement already satisfied: google-api-python-client>=1.5.5 in /usr/local/lib/python3.7/dist-packages (from pygsheets) (1.12.8)\n",
            "Requirement already satisfied: requests-oauthlib>=0.7.0 in /usr/local/lib/python3.7/dist-packages (from google-auth-oauthlib->pygsheets) (1.3.0)\n",
            "Requirement already satisfied: google-auth>=1.0.0 in /usr/local/lib/python3.7/dist-packages (from google-auth-oauthlib->pygsheets) (1.30.0)\n",
            "Requirement already satisfied: httplib2<1dev,>=0.15.0 in /usr/local/lib/python3.7/dist-packages (from google-api-python-client>=1.5.5->pygsheets) (0.17.4)\n",
            "Requirement already satisfied: google-auth-httplib2>=0.0.3 in /usr/local/lib/python3.7/dist-packages (from google-api-python-client>=1.5.5->pygsheets) (0.0.4)\n",
            "Requirement already satisfied: uritemplate<4dev,>=3.0.0 in /usr/local/lib/python3.7/dist-packages (from google-api-python-client>=1.5.5->pygsheets) (3.0.1)\n",
            "Requirement already satisfied: six<2dev,>=1.13.0 in /usr/local/lib/python3.7/dist-packages (from google-api-python-client>=1.5.5->pygsheets) (1.15.0)\n",
            "Requirement already satisfied: google-api-core<2dev,>=1.21.0 in /usr/local/lib/python3.7/dist-packages (from google-api-python-client>=1.5.5->pygsheets) (1.26.3)\n",
            "Requirement already satisfied: requests>=2.0.0 in /usr/local/lib/python3.7/dist-packages (from requests-oauthlib>=0.7.0->google-auth-oauthlib->pygsheets) (2.23.0)\n",
            "Requirement already satisfied: oauthlib>=3.0.0 in /usr/local/lib/python3.7/dist-packages (from requests-oauthlib>=0.7.0->google-auth-oauthlib->pygsheets) (3.1.0)\n",
            "Requirement already satisfied: rsa<5,>=3.1.4; python_version >= \"3.6\" in /usr/local/lib/python3.7/dist-packages (from google-auth>=1.0.0->google-auth-oauthlib->pygsheets) (4.7.2)\n",
            "Requirement already satisfied: pyasn1-modules>=0.2.1 in /usr/local/lib/python3.7/dist-packages (from google-auth>=1.0.0->google-auth-oauthlib->pygsheets) (0.2.8)\n",
            "Requirement already satisfied: cachetools<5.0,>=2.0.0 in /usr/local/lib/python3.7/dist-packages (from google-auth>=1.0.0->google-auth-oauthlib->pygsheets) (4.2.2)\n",
            "Requirement already satisfied: setuptools>=40.3.0 in /usr/local/lib/python3.7/dist-packages (from google-auth>=1.0.0->google-auth-oauthlib->pygsheets) (57.0.0)\n",
            "Requirement already satisfied: pytz in /usr/local/lib/python3.7/dist-packages (from google-api-core<2dev,>=1.21.0->google-api-python-client>=1.5.5->pygsheets) (2018.9)\n",
            "Requirement already satisfied: googleapis-common-protos<2.0dev,>=1.6.0 in /usr/local/lib/python3.7/dist-packages (from google-api-core<2dev,>=1.21.0->google-api-python-client>=1.5.5->pygsheets) (1.53.0)\n",
            "Requirement already satisfied: packaging>=14.3 in /usr/local/lib/python3.7/dist-packages (from google-api-core<2dev,>=1.21.0->google-api-python-client>=1.5.5->pygsheets) (20.9)\n",
            "Requirement already satisfied: protobuf>=3.12.0 in /usr/local/lib/python3.7/dist-packages (from google-api-core<2dev,>=1.21.0->google-api-python-client>=1.5.5->pygsheets) (3.12.4)\n",
            "Requirement already satisfied: urllib3!=1.25.0,!=1.25.1,<1.26,>=1.21.1 in /usr/local/lib/python3.7/dist-packages (from requests>=2.0.0->requests-oauthlib>=0.7.0->google-auth-oauthlib->pygsheets) (1.24.3)\n",
            "Requirement already satisfied: certifi>=2017.4.17 in /usr/local/lib/python3.7/dist-packages (from requests>=2.0.0->requests-oauthlib>=0.7.0->google-auth-oauthlib->pygsheets) (2020.12.5)\n",
            "Requirement already satisfied: idna<3,>=2.5 in /usr/local/lib/python3.7/dist-packages (from requests>=2.0.0->requests-oauthlib>=0.7.0->google-auth-oauthlib->pygsheets) (2.10)\n",
            "Requirement already satisfied: chardet<4,>=3.0.2 in /usr/local/lib/python3.7/dist-packages (from requests>=2.0.0->requests-oauthlib>=0.7.0->google-auth-oauthlib->pygsheets) (3.0.4)\n",
            "Requirement already satisfied: pyasn1>=0.1.3 in /usr/local/lib/python3.7/dist-packages (from rsa<5,>=3.1.4; python_version >= \"3.6\"->google-auth>=1.0.0->google-auth-oauthlib->pygsheets) (0.4.8)\n",
            "Requirement already satisfied: pyparsing>=2.0.2 in /usr/local/lib/python3.7/dist-packages (from packaging>=14.3->google-api-core<2dev,>=1.21.0->google-api-python-client>=1.5.5->pygsheets) (2.4.7)\n",
            "Installing collected packages: pygsheets\n",
            "Successfully installed pygsheets-2.0.5\n"
          ],
          "name": "stdout"
        }
      ]
    },
    {
      "cell_type": "code",
      "metadata": {
        "id": "zZ8y9lTiTey0"
      },
      "source": [
        "import tabula\n",
        "import pandas as pd\n",
        "import datetime\n",
        "from bs4 import BeautifulSoup\n",
        "import requests\n",
        "import re\n",
        "\n",
        "import google.auth\n",
        "from google.colab import auth\n",
        "\n",
        "auth.authenticate_user()\n",
        "import pygsheets\n",
        "credentials, _ = google.auth.default()\n",
        "gc = pygsheets.client.Client(credentials)"
      ],
      "execution_count": 2,
      "outputs": []
    },
    {
      "cell_type": "markdown",
      "metadata": {
        "id": "XklQF2e3qfUC"
      },
      "source": [
        "**Cook County Jail Population — Retrieval**\n"
      ]
    },
    {
      "cell_type": "code",
      "metadata": {
        "id": "nX4p2p25TgDb"
      },
      "source": [
        "def get_jail_data(date):\n",
        "  jail_data = {}\n",
        "  \n",
        "  date_items = date.split('/')\n",
        "  \n",
        "  month = date_items[0]\n",
        "  day = date_items[1]\n",
        "  year = date_items[2]\n",
        "\n",
        "  pdf_path = \"https://www.cookcountysheriff.org/wp-content/uploads/\" + year + '/' + month + '/CCSO_BIU_CommunicationsCCDOC_v1_' + year + '_' + month + '_' + day + '.pdf'\n",
        "  jail_data[\"PDF\"] = pdf_path\n",
        "\n",
        "  try:\n",
        "   df = tabula.read_pdf(pdf_path, pages=1)\n",
        "  except:\n",
        "    return None\n",
        "\n",
        "  jail_data_date = month + '/' + day + '/' + year\n",
        "  jail_data['Date'] = jail_data_date\n",
        "\n",
        "  try:\n",
        "    if df[0][\"Under the Custody of the Sheriff\"][1] == 'Jail Population':\n",
        "      jail_pop = int(df[0]['Unnamed: 0'][1].replace(',',''))\n",
        "      elec_monitoring_pop = int(df[0]['Unnamed: 0'][2].replace(',',''))\n",
        "    else:\n",
        "      jail_pop = int(df[0][\"Under the Custody of the Sheriff\"][1].replace(',',''))\n",
        "      elec_monitoring_pop = int(df[0][\"Under the Custody of the Sheriff\"][2].replace(',',''))\n",
        "  except:\n",
        "    try:\n",
        "      df[1]['Under the Custody of the Sheriff'][1] == 'Jail Population'\n",
        "      jail_pop = int(df[1]['Unnamed: 0'][1].replace(',',''))\n",
        "      elec_monitoring_pop = int(df[1]['Unnamed: 0'][2].replace(',',''))\n",
        "    except:\n",
        "      pass\n",
        "  \n",
        "  jail_data[\"Jail Population\"] = jail_pop\n",
        "  jail_data[\"Electronic Monitoring\"] = elec_monitoring_pop\n",
        "\n",
        "  return jail_data"
      ],
      "execution_count": 3,
      "outputs": []
    },
    {
      "cell_type": "markdown",
      "metadata": {
        "id": "5QZsSjgRrpXh"
      },
      "source": [
        "**Cook County Jail COVID-19 Cases — Retrieval**\n",
        "\n",
        "\n"
      ]
    },
    {
      "cell_type": "code",
      "metadata": {
        "id": "YhWKdjQmThrE"
      },
      "source": [
        "def get_today_covid_data():\n",
        "  covid_data = {}\n",
        "\n",
        "  webpage_response = requests.get('https://www.cookcountysheriff.org/covid/covid-19-cases-at-ccdoc/')\n",
        "  soup = BeautifulSoup(webpage_response.content)\n",
        "\n",
        "  all_text = soup.find_all('p')\n",
        "  text_list = []\n",
        "\n",
        "  for a in all_text:\n",
        "    text_list.append(a.getText())\n",
        "\n",
        "  bullets = soup.find_all(\"li\")\n",
        "\n",
        "  for line in text_list:\n",
        "    if \"As of 5 p.m. on\" in line:\n",
        "      date_list = []\n",
        "      all_words_in_line = line.split(' ')\n",
        "\n",
        "      for word in all_words_in_line:\n",
        "        date_list.append(word)\n",
        "      date = date_list[5].replace(':','')\n",
        "\n",
        "      month = int(date.split('/')[0])\n",
        "      \n",
        "      if month < 10:\n",
        "        date = \"0\" + date\n",
        "      \n",
        "      covid_data[\"Date\"] = date\n",
        "\n",
        "  for li in bullets:\n",
        "    li_str = li.getText()\n",
        "\n",
        "    if 'detainees in custody at Cook County Jail are currently positive for COVID-19.' in li_str:\n",
        "      sentence = li_str.split(' ')\n",
        "      current_positive = int(sentence[0])\n",
        "      covid_data['Current Positives'] = current_positive\n",
        "\n",
        "    if 'detainees in custody are no longer positive and are being monitored at a recovery facility at the jail' in li_str:\n",
        "      sentence = li_str.split(' ')\n",
        "      recovered = sentence[0].replace(',','')\n",
        "      recovered = int(recovered)\n",
        "      covid_data['Recovered'] = recovered\n",
        "\n",
        "    if 'detainees have tested negative for COVID-19' in li_str:\n",
        "      sentence = li_str.split(' ')\n",
        "      negative = sentence[0].replace(',','')\n",
        "      negative = int(negative)\n",
        "      covid_data['Negative'] = negative\n",
        "\n",
        "    if 'detainees who tested positive for COVID-19 have died while receiving treatment at local hospitals' in li_str:\n",
        "      sentence = li_str.split(' ')\n",
        "      detainees_died = sentence[0].replace(',','')\n",
        "      detainees_died = int(detainees_died)\n",
        "      covid_data['Detainee Deaths'] = detainees_died\n",
        "\n",
        "    if 'detainees who are being treated at local hospitals' in li_str:\n",
        "      sentence = li_str.split(' ')\n",
        "      detainees_hospitalized = int(sentence[2])\n",
        "      covid_data['Detainees Hospitalized'] = detainees_hospitalized\n",
        "\n",
        "  for line in text_list:\n",
        "    if \"Additionally\" in line:\n",
        "      full_sentence = line.split(' ')\n",
        "      officers_positive = int(full_sentence[1])\n",
        "      other_employees_positive = int(full_sentence[10])\n",
        "      covid_data[\"Sheriff's Staff Positive\"] = officers_positive + other_employees_positive\n",
        "      covid_data[\"Officers Positive\"] = officers_positive\n",
        "\n",
        "    if \"who previously tested positive who are now recovered and have returned to work\" in line:\n",
        "      full_sentence = line.split(' ')\n",
        "      recovered_employees = int(full_sentence[2].replace(',',''))\n",
        "      covid_data[\"Recovered Sheriff's Employees\"] = recovered_employees\n",
        "\n",
        "    if \"We are saddened to report that\" in line:\n",
        "      full_sentence = line.split(' ')\n",
        "      correctional_officer_deaths = int(full_sentence[6])\n",
        "      covid_data[\"Correctional Officer Deaths\"] = correctional_officer_deaths\n",
        "\n",
        "  return covid_data"
      ],
      "execution_count": 4,
      "outputs": []
    },
    {
      "cell_type": "markdown",
      "metadata": {
        "id": "NTE1W_K_6IIz"
      },
      "source": [
        "**Helper Functions**"
      ]
    },
    {
      "cell_type": "code",
      "metadata": {
        "id": "4ldRNiI83JDL"
      },
      "source": [
        "def get_today_jail_data():\n",
        "  td = datetime.date.today()\n",
        "  td = td.strftime(\"%m/%d/%Y\")\n",
        "  return get_jail_data(td)\n",
        "\n",
        "def reformat_date(date_string):\n",
        "  date_items = date_string.split('/')\n",
        "  month = date_items[0].replace('0','')\n",
        "  if int(date_items[1]) < 10:\n",
        "    day = date_items[1].replace('0','')\n",
        "  else:\n",
        "    day = str(date_items[1])\n",
        "  year = date_items[2]\n",
        "  reformatted_date = month + '/' + day + '/' + year\n",
        "  return reformatted_date"
      ],
      "execution_count": 5,
      "outputs": []
    },
    {
      "cell_type": "markdown",
      "metadata": {
        "id": "5-BHqshKtX5F"
      },
      "source": [
        "**Initialize Today's Data**"
      ]
    },
    {
      "cell_type": "code",
      "metadata": {
        "id": "hIjOUMl3Tocb",
        "colab": {
          "base_uri": "https://localhost:8080/"
        },
        "outputId": "7484373e-398b-4198-a219-79ca9901b017"
      },
      "source": [
        "today_covid_data = get_today_covid_data()\n",
        "today_jail_data = get_today_jail_data()"
      ],
      "execution_count": 6,
      "outputs": [
        {
          "output_type": "stream",
          "text": [
            "Got stderr: Jun 11, 2021 2:43:21 PM org.apache.pdfbox.pdmodel.font.FileSystemFontProvider loadDiskCache\n",
            "WARNING: New fonts found, font cache will be re-built\n",
            "Jun 11, 2021 2:43:21 PM org.apache.pdfbox.pdmodel.font.FileSystemFontProvider <init>\n",
            "WARNING: Building on-disk font cache, this may take a while\n",
            "Jun 11, 2021 2:43:21 PM org.apache.pdfbox.pdmodel.font.FileSystemFontProvider <init>\n",
            "WARNING: Finished building on-disk font cache, found 17 fonts\n",
            "Jun 11, 2021 2:43:21 PM org.apache.pdfbox.pdmodel.font.PDTrueTypeFont <init>\n",
            "WARNING: Using fallback font 'LiberationSans-Bold' for 'TimesNewRomanPS-BoldMT'\n",
            "Jun 11, 2021 2:43:21 PM org.apache.pdfbox.pdmodel.font.PDTrueTypeFont <init>\n",
            "WARNING: Using fallback font 'LiberationSans' for 'TimesNewRomanPSMT'\n",
            "Jun 11, 2021 2:43:23 PM org.apache.pdfbox.pdmodel.font.PDTrueTypeFont <init>\n",
            "WARNING: Using fallback font 'LiberationSans-Bold' for 'TimesNewRomanPS-BoldMT'\n",
            "Jun 11, 2021 2:43:23 PM org.apache.pdfbox.pdmodel.font.PDTrueTypeFont <init>\n",
            "WARNING: Using fallback font 'LiberationSans' for 'TimesNewRomanPSMT'\n",
            "\n"
          ],
          "name": "stderr"
        }
      ]
    },
    {
      "cell_type": "markdown",
      "metadata": {
        "id": "mhgcNizOCGCD"
      },
      "source": [
        "**Updating Spreadsheets**\n",
        "\n"
      ]
    },
    {
      "cell_type": "markdown",
      "metadata": {
        "id": "A3sw_5xx-TE3"
      },
      "source": [
        "*Update Jail Spreadsheet*"
      ]
    },
    {
      "cell_type": "code",
      "metadata": {
        "id": "5KqT1JXabLTm"
      },
      "source": [
        "def update_jail_spreadsheet(jail_data):\n",
        "\n",
        "  sh = gc.open('Cook County Jail Population - March 2020')\n",
        "\n",
        "  if jail_data == None:\n",
        "    print('Jail data for this day is unavailable.')\n",
        "\n",
        "  else:\n",
        "    rf_date_2 = reformat_date(jail_data['Date'])\n",
        "    print('Jail population data is available for ' + rf_date_2 + '.')\n",
        "    \n",
        "    jail_wks = sh[0]\n",
        "    jail_df = pd.DataFrame(jail_wks.get_all_records())\n",
        "    \n",
        "    if rf_date_2 != jail_df.iloc[-1]['Date']:\n",
        "      new_row = [jail_data['Date'],\n",
        "                jail_data['Jail Population'],\n",
        "                jail_data['Electronic Monitoring']]\n",
        "\n",
        "      cells = jail_wks.get_all_values(include_tailing_empty_rows=False, include_tailing_empty=False, returnas='matrix')\n",
        "      last_row = len(cells)\n",
        "      jail_wks = jail_wks.insert_rows(last_row, number=1, values= new_row,inherit=True)\n",
        "      \n",
        "      print('Jail population spreadsheet has been updated with data from '+ rf_date_2 + '.')\n",
        "\n",
        "    else:\n",
        "      print('Jail population spreadsheet is up to date.')"
      ],
      "execution_count": 7,
      "outputs": []
    },
    {
      "cell_type": "markdown",
      "metadata": {
        "id": "ObEqn3z0C-gb"
      },
      "source": [
        "*Update COVID Spreadsheet*\n",
        "\n"
      ]
    },
    {
      "cell_type": "code",
      "metadata": {
        "id": "ZhjeFs1zj6F_"
      },
      "source": [
        "def update_covid_spreadsheet(today_covid_data):\n",
        "  \n",
        "  rf_date = reformat_date(today_covid_data['Date'])\n",
        "\n",
        "  if today_covid_data:\n",
        "    print('COVID-19 data is available for ' + rf_date + '.')\n",
        "\n",
        "  if not today_covid_data:\n",
        "    print('COVID data for this day is unavailable.')\n",
        "  \n",
        "  sh = gc.open('Cook County Jail Population - March 2020')\n",
        "  covid_wks = sh[1]\n",
        "  covid_df = pd.DataFrame(covid_wks.get_all_records())\n",
        "\n",
        "  if rf_date != covid_df.iloc[-1]['Date']:\n",
        "    jail_wks = sh[0]\n",
        "    jail_df = pd.DataFrame(jail_wks.get_all_records())\n",
        "    try:\n",
        "      jail_df_row = jail_df.loc[jail_df['Date'] == rf_date]\n",
        "      jail_pop = jail_df_row.iloc[0]['Jail Population']\n",
        "    except:\n",
        "      jail_df_row = jail_df.iloc[[0, -1]]\n",
        "      jail_pop = jail_df_row.iloc[0]['Jail Population']\n",
        "    today_date = today_covid_data['Date']\n",
        "    today_positives = today_covid_data['Current Positives']\n",
        "    recovered_detainees = today_covid_data['Recovered']\n",
        "    today_negative = today_covid_data['Negative']\n",
        "    detainee_deaths = today_covid_data['Detainee Deaths']\n",
        "    co_deaths = today_covid_data['Correctional Officer Deaths']\n",
        "    today_staff_positive = today_covid_data[\"Sheriff's Staff Positive\"]\n",
        "    today_co_positive = today_covid_data['Officers Positive']\n",
        "    recovered_employees = today_covid_data[\"Recovered Sheriff's Employees\"]\n",
        "    today_infection_rate = (today_positives/jail_pop)*1000\n",
        "\n",
        "    if 'Detainees Hospitalized' in today_covid_data:\n",
        "      today_hospitalized == today_covid_data['Detainees Hospitalized']\n",
        "    else:\n",
        "      today_hospitalized = 0\n",
        "\n",
        "    total_detainees_positive = today_positives + recovered_detainees\n",
        "    total_staff_positive = today_covid_data[\"Sheriff's Staff Positive\"] + today_covid_data[\"Recovered Sheriff's Employees\"]\n",
        "\n",
        "    new_covid_row = [today_date,\n",
        "                    total_detainees_positive,\n",
        "                    today_positives,\n",
        "                    recovered_detainees,\n",
        "                    None,\n",
        "                    None,\n",
        "                    None,\n",
        "                    today_negative,\n",
        "                    today_hospitalized,\n",
        "                    detainee_deaths,\n",
        "                    co_deaths,\n",
        "                    today_staff_positive,\n",
        "                    today_co_positive,\n",
        "                    recovered_employees,\n",
        "                    total_staff_positive,\n",
        "                    today_infection_rate]\n",
        "\n",
        "    cells2 = covid_wks.get_all_values(include_tailing_empty_rows=False, include_tailing_empty=False, returnas='matrix')\n",
        "    last_row = len(cells2)\n",
        "    covid_wks = covid_wks.insert_rows(last_row, number=1, values= new_covid_row,inherit=True)\n",
        "    print('COVID-19 spreadsheet has been updated with data from '+ rf_date + '.')\n",
        "\n",
        "  else:\n",
        "    print('COVID-19 spreadsheet is up to date.')"
      ],
      "execution_count": 8,
      "outputs": []
    },
    {
      "cell_type": "markdown",
      "metadata": {
        "id": "E3LkPbn0DUuf"
      },
      "source": [
        "**Daily Operations**"
      ]
    },
    {
      "cell_type": "code",
      "metadata": {
        "id": "sYJAtEl57hSp"
      },
      "source": [
        "def daily_operations():\n",
        "  update_jail_spreadsheet(today_jail_data)\n",
        "  update_covid_spreadsheet(today_covid_data)"
      ],
      "execution_count": 9,
      "outputs": []
    },
    {
      "cell_type": "markdown",
      "metadata": {
        "id": "CG4jJA7NGasV"
      },
      "source": [
        "\n",
        "**RUNNING THE PROGRAM**"
      ]
    },
    {
      "cell_type": "markdown",
      "metadata": {
        "id": "2CWGpoNfCCx0"
      },
      "source": [
        "*Mondays*"
      ]
    },
    {
      "cell_type": "code",
      "metadata": {
        "colab": {
          "base_uri": "https://localhost:8080/",
          "height": 37
        },
        "id": "sRMnDs2kB9xp",
        "outputId": "b88dce0d-d57a-43c4-a6d6-428c84591f52"
      },
      "source": [
        "'''\n",
        "update_jail_spreadsheet(get_jail_data('06/05/2021'))\n",
        "update_jail_spreadsheet(get_jail_data('06/06/2021'))\n",
        "'''"
      ],
      "execution_count": 10,
      "outputs": [
        {
          "output_type": "execute_result",
          "data": {
            "application/vnd.google.colaboratory.intrinsic+json": {
              "type": "string"
            },
            "text/plain": [
              "\"\\nupdate_jail_spreadsheet(get_jail_data('06/05/2021'))\\nupdate_jail_spreadsheet(get_jail_data('06/06/2021'))\\n\""
            ]
          },
          "metadata": {
            "tags": []
          },
          "execution_count": 10
        }
      ]
    },
    {
      "cell_type": "markdown",
      "metadata": {
        "id": "4XEe7IlMCFMR"
      },
      "source": [
        "*All Days*"
      ]
    },
    {
      "cell_type": "code",
      "metadata": {
        "id": "ufecZPVwAx9E",
        "colab": {
          "base_uri": "https://localhost:8080/"
        },
        "outputId": "5c3435b0-8456-48c4-827a-9284824d7197"
      },
      "source": [
        "daily_operations()"
      ],
      "execution_count": 11,
      "outputs": [
        {
          "output_type": "stream",
          "text": [
            "Jail population data is available for 6/11/2021.\n",
            "Jail population spreadsheet has been updated with data from 6/11/2021.\n",
            "COVID-19 data is available for 6/10/2021.\n",
            "COVID-19 spreadsheet has been updated with data from 6/10/2021.\n"
          ],
          "name": "stdout"
        }
      ]
    }
  ]
}